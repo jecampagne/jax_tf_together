{
 "cells": [
  {
   "cell_type": "code",
   "execution_count": 1,
   "id": "b7344885-80ee-4f7b-80ed-29b16d0a4e85",
   "metadata": {},
   "outputs": [],
   "source": [
    "from typing import Callable\n",
    "import jax\n",
    "jax.config.update(\"jax_enable_x64\", True)\n",
    "\n",
    "import jax.numpy as jnp\n",
    "from jax.experimental import host_callback as hcb\n",
    "import numpy as np\n",
    "\n",
    "import tensorflow as tf"
   ]
  },
  {
   "cell_type": "code",
   "execution_count": 2,
   "id": "c4148230-b528-4dba-a528-7c9636aba743",
   "metadata": {},
   "outputs": [
    {
     "data": {
      "text/plain": [
       "'0.2.24'"
      ]
     },
     "execution_count": 2,
     "metadata": {},
     "output_type": "execute_result"
    }
   ],
   "source": [
    "jax.__version__"
   ]
  },
  {
   "cell_type": "code",
   "execution_count": 3,
   "id": "10807d6d-172c-46ae-bdbf-d31ee9609515",
   "metadata": {},
   "outputs": [
    {
     "data": {
      "text/plain": [
       "'2.9.1'"
      ]
     },
     "execution_count": 3,
     "metadata": {},
     "output_type": "execute_result"
    }
   ],
   "source": [
    "tf.__version__"
   ]
  },
  {
   "cell_type": "code",
   "execution_count": 4,
   "id": "7491a669-f11a-4d4b-a9f9-7db5a251fab0",
   "metadata": {},
   "outputs": [],
   "source": [
    "def call_tf_no_ad(tf_fun: Callable, arg, *, result_shape):\n",
    "  \"\"\"The simplest implementation of calling to TF, without AD support.\n",
    "  We must use hcb.call because the TF invocation must happen outside the\n",
    "  JAX staged computation.\"\"\"\n",
    "\n",
    "  def tf_to_numpy(t):\n",
    "    # Turn the Tensor to NumPy array without copying.\n",
    "    return np.asarray(memoryview(t)) if isinstance(t, tf.Tensor) else t\n",
    "\n",
    "  return hcb.call(lambda arg: tf.nest.map_structure(tf_to_numpy,\n",
    "                                                    tf_fun(arg)),\n",
    "                  arg, result_shape=result_shape)\n",
    "\n",
    "\n",
    "def call_tf_full_ad(tf_fun: Callable, arg, *, result_shape):\n",
    "  \"\"\"Calls a TensorFlow function with support for reverse AD.\n",
    "  Supports higher-order AD and pytree arguments.\n",
    "  \"\"\"\n",
    "\n",
    "  @jax.custom_vjp\n",
    "  def make_call(arg):\n",
    "    \"\"\"We wrap it all in `make_call` so that we can attach custom VJP.\"\"\"\n",
    "    return call_tf_no_ad(tf_fun, arg, result_shape=result_shape)\n",
    "\n",
    "  # Define the fwd and bwd custom_vjp functions\n",
    "  def make_call_vjp_fwd(arg):\n",
    "    return make_call(arg), arg  # Return the primal argument as the residual\n",
    "\n",
    "  def make_call_vjp_bwd(res, ct_res):\n",
    "    arg = res  # residual is the primal argument\n",
    "\n",
    "    def tf_vjp_fun(arg_and_ct_res):\n",
    "      \"\"\"Invoke TF gradient; used with hcb.call.\"\"\"\n",
    "      arg, ct_res = arg_and_ct_res\n",
    "\n",
    "      def make_var(a):\n",
    "        return a if isinstance(a, tf.Variable) else tf.Variable(a)\n",
    "\n",
    "      arg_var = tf.nest.map_structure(make_var, arg)\n",
    "\n",
    "      with tf.GradientTape(persistent=True) as tape:\n",
    "        res = tf_fun(arg_var)\n",
    "\n",
    "      tf.nest.assert_same_structure(res, ct_res)\n",
    "      accumulator = None  # Accumulate argument cotangent. Same structure as \"arg\"\n",
    "\n",
    "      def acc_ct(res_, ct_res_):\n",
    "        dres_darg = tape.gradient(res_, sources=arg_var,\n",
    "                                  unconnected_gradients=tf.UnconnectedGradients.ZERO)\n",
    "        tf.nest.assert_same_structure(dres_darg, arg)\n",
    "        scaled_dres_darg = tf.nest.map_structure(lambda d: d * ct_res_, dres_darg)\n",
    "        nonlocal accumulator\n",
    "        accumulator = (scaled_dres_darg if accumulator is None\n",
    "                       else tf.nest.map_structure(lambda x, y: x + y,\n",
    "                                                  accumulator, scaled_dres_darg))\n",
    "\n",
    "      tf.nest.map_structure(acc_ct, res, ct_res)\n",
    "      return accumulator\n",
    "\n",
    "    return (call_tf_full_ad(tf_vjp_fun, (arg, ct_res),\n",
    "                            result_shape=arg),)\n",
    "\n",
    "  make_call.defvjp(make_call_vjp_fwd, make_call_vjp_bwd)\n",
    "  return make_call(arg)"
   ]
  },
  {
   "cell_type": "code",
   "execution_count": 5,
   "id": "565ceec0-7faa-45d0-aeef-ab8880116dec",
   "metadata": {},
   "outputs": [],
   "source": [
    "def f(x):\n",
    "  return call_tf_full_ad(tf.math.sin, 2. * x, result_shape=x)"
   ]
  },
  {
   "cell_type": "code",
   "execution_count": 6,
   "id": "7094d20f-1435-4a67-aac5-c20c730360ab",
   "metadata": {},
   "outputs": [],
   "source": [
    "x_test=np.pi/5."
   ]
  },
  {
   "cell_type": "code",
   "execution_count": 7,
   "id": "79189c28-6b72-40e7-8c49-df31091292c5",
   "metadata": {},
   "outputs": [
    {
     "data": {
      "text/plain": [
       "(DeviceArray(0.95105652, dtype=float64), 0.9510565162951535)"
      ]
     },
     "execution_count": 7,
     "metadata": {},
     "output_type": "execute_result"
    }
   ],
   "source": [
    "f(x_test), np.sin(2*x_test)"
   ]
  },
  {
   "cell_type": "code",
   "execution_count": 8,
   "id": "bbd7a6c4-e40d-4045-8690-704ac016e9ab",
   "metadata": {},
   "outputs": [
    {
     "data": {
      "text/plain": [
       "(DeviceArray(0.61803399, dtype=float64), 0.6180339887498949)"
      ]
     },
     "execution_count": 8,
     "metadata": {},
     "output_type": "execute_result"
    }
   ],
   "source": [
    "jax.grad(f)(x_test), 2*np.cos(2*x_test)"
   ]
  },
  {
   "cell_type": "code",
   "execution_count": 9,
   "id": "a6b08ce3-d431-4d60-b9d7-c94c510a9185",
   "metadata": {},
   "outputs": [],
   "source": [
    "import cosmopower as cp # Cosmo Power (from Alessio Spurio Mancini since 10thJuly22)"
   ]
  },
  {
   "cell_type": "code",
   "execution_count": 10,
   "id": "eb46bb6b-d4b1-4b58-9a8a-424b0892b064",
   "metadata": {},
   "outputs": [],
   "source": [
    "cp_dir = \"./cosmo_power_trained/\"\n",
    "# instantiate your CP linear power emulator\n",
    "\n",
    "pklin_cp = cp.cosmopower_NN(restore=True,\n",
    "                            restore_filename=cp_dir+'/PKLIN_NN') # change with path to your linear power emulator .pkl file, without .pkl suffix\n",
    "\n",
    "\n",
    "# instantiate your CP nonlinear correction (halofit) emulator \n",
    "pknlratio_cp = cp.cosmopower_NN(restore=True,\n",
    "                                restore_filename=cp_dir+'/PKBOOST_NN') # change with path to your nonlinear correction emulator .pkl file, without .pkl suffix"
   ]
  },
  {
   "cell_type": "code",
   "execution_count": 11,
   "id": "b05f780b-2a64-47dc-898e-228fea80ffa2",
   "metadata": {},
   "outputs": [],
   "source": [
    "h_emu = 0.6774 \n",
    "Omega_c_emu = 0.2589\n",
    "Omega_b_emu = 0.0486\n",
    "sigma8_emu = 0.8159\n",
    "n_s_emu = 0.9667\n",
    "z_test = 2.0"
   ]
  },
  {
   "cell_type": "code",
   "execution_count": 12,
   "id": "0f57437b-fae3-420e-9798-510d79b0e3c6",
   "metadata": {},
   "outputs": [],
   "source": [
    "params_cosmo_power = {'Omega_cdm': [Omega_c_emu],\n",
    "              'Omega_b':   [Omega_b_emu],\n",
    "              'h':         [h_emu],\n",
    "              'n_s':       [n_s_emu],\n",
    "              'sigma8':    [sigma8_emu],\n",
    "             }\n",
    "params_cosmo_power['z'] = [z_test]\n"
   ]
  },
  {
   "cell_type": "code",
   "execution_count": 16,
   "id": "c712f903-b73a-47d3-907b-6674fcc852f7",
   "metadata": {},
   "outputs": [],
   "source": [
    "def tf_test_cp(params):\n",
    "    parameters_arr = pklin_cp.dict_to_ordered_arr_np(params)\n",
    "    x_tensor = tf.convert_to_tensor(parameters_arr, dtype=tf.float32)\n",
    "    return 10.**(pklin_cp.predictions_tf(x_tensor)+pknlratio_cp.predictions_tf(x_tensor))"
   ]
  },
  {
   "cell_type": "code",
   "execution_count": 22,
   "id": "5c896aaa-cc9e-49e3-a5dc-6a6efcc6b33e",
   "metadata": {},
   "outputs": [],
   "source": [
    "tf_pk = tf_test_cp(params_cosmo_power)"
   ]
  },
  {
   "cell_type": "code",
   "execution_count": 28,
   "id": "d96e1bde-b057-4268-813f-aea588168ee1",
   "metadata": {},
   "outputs": [
    {
     "data": {
      "text/plain": [
       "<tf.Tensor: shape=(1, 540), dtype=float32, numpy=\n",
       "array([[1.68302515e+03, 1.71084863e+03, 1.73911316e+03, 1.76782288e+03,\n",
       "        1.79698474e+03, 1.82660852e+03, 1.85669751e+03, 1.88725452e+03,\n",
       "        1.91829333e+03, 1.94981567e+03, 1.98182959e+03, 2.01433887e+03,\n",
       "        2.04735242e+03, 2.08087915e+03, 2.11491895e+03, 2.14948340e+03,\n",
       "        2.18457910e+03, 2.22021484e+03, 2.25639233e+03, 2.29311597e+03,\n",
       "        2.33040161e+03, 2.36825073e+03, 2.40666431e+03, 2.44566626e+03,\n",
       "        2.48524902e+03, 2.52542188e+03, 2.56619263e+03, 2.60757251e+03,\n",
       "        2.64956445e+03, 2.69216724e+03, 2.73539941e+03, 2.77927222e+03,\n",
       "        2.82377612e+03, 2.86892871e+03, 2.91473218e+03, 2.96119604e+03,\n",
       "        3.00832983e+03, 3.05612842e+03, 3.10461206e+03, 3.15378149e+03,\n",
       "        3.20364917e+03, 3.31657983e+03, 3.43301562e+03, 3.55304321e+03,\n",
       "        3.67670166e+03, 3.80407764e+03, 3.93523413e+03, 4.07020874e+03,\n",
       "        4.20908203e+03, 4.35188867e+03, 4.49868457e+03, 4.64951318e+03,\n",
       "        4.80440332e+03, 4.96338672e+03, 5.12650342e+03, 5.29374121e+03,\n",
       "        5.46512012e+03, 5.64063916e+03, 5.82027246e+03, 6.00402637e+03,\n",
       "        6.19182910e+03, 6.38364453e+03, 6.57942041e+03, 6.77907031e+03,\n",
       "        6.98250928e+03, 7.18961670e+03, 7.40029980e+03, 7.61439795e+03,\n",
       "        7.83174365e+03, 8.05215527e+03, 8.27543848e+03, 8.50134375e+03,\n",
       "        8.72963770e+03, 8.96005078e+03, 9.19225293e+03, 9.42590137e+03,\n",
       "        9.66064551e+03, 9.89609082e+03, 1.01317559e+04, 1.03672490e+04,\n",
       "        1.06020293e+04, 1.08356201e+04, 1.10674814e+04, 1.12970244e+04,\n",
       "        1.15236914e+04, 1.17467754e+04, 1.19656162e+04, 1.21795137e+04,\n",
       "        1.23876807e+04, 1.25893213e+04, 1.27836045e+04, 1.29695781e+04,\n",
       "        1.31462871e+04, 1.33126914e+04, 1.34676592e+04, 1.36101406e+04,\n",
       "        1.37390908e+04, 1.38535137e+04, 1.39523613e+04, 1.40345518e+04,\n",
       "        1.40990635e+04, 1.41351504e+04, 1.41602246e+04, 1.41738047e+04,\n",
       "        1.41754727e+04, 1.41648604e+04, 1.41415713e+04, 1.41053555e+04,\n",
       "        1.40558467e+04, 1.39927988e+04, 1.39160400e+04, 1.38253867e+04,\n",
       "        1.37207930e+04, 1.36021543e+04, 1.34695938e+04, 1.33232188e+04,\n",
       "        1.31632559e+04, 1.29900293e+04, 1.28039463e+04, 1.26055205e+04,\n",
       "        1.23953770e+04, 1.21742842e+04, 1.19430488e+04, 1.17026543e+04,\n",
       "        1.14541475e+04, 1.11987012e+04, 1.09375566e+04, 1.06720723e+04,\n",
       "        1.04036465e+04, 1.01337617e+04, 9.86390723e+03, 9.59563965e+03,\n",
       "        9.33046680e+03, 9.06987695e+03, 8.81529883e+03, 8.56807617e+03,\n",
       "        8.32945508e+03, 8.10050781e+03, 7.88214844e+03, 7.67508350e+03,\n",
       "        7.47980273e+03, 7.29648047e+03, 7.12505127e+03, 6.96509668e+03,\n",
       "        6.81589014e+03, 6.67636084e+03, 6.54508057e+03, 6.42029395e+03,\n",
       "        6.29994580e+03, 6.18168848e+03, 6.06299658e+03, 5.94127100e+03,\n",
       "        5.81390479e+03, 5.67849121e+03, 5.53295947e+03, 5.37577734e+03,\n",
       "        5.20607568e+03, 5.02383936e+03, 4.82997852e+03, 4.62636475e+03,\n",
       "        4.41577979e+03, 4.20179688e+03, 3.98854834e+03, 3.78047510e+03,\n",
       "        3.58198999e+03, 3.39709375e+03, 3.22905591e+03, 3.08011694e+03,\n",
       "        2.95124512e+03, 2.84201392e+03, 2.75053613e+03, 2.67352734e+03,\n",
       "        2.60648926e+03, 2.54403906e+03, 2.48045508e+03, 2.41041919e+03,\n",
       "        2.32983813e+03, 2.23662500e+03, 2.13119775e+03, 2.01654077e+03,\n",
       "        1.89776489e+03, 1.80395020e+03, 1.71469775e+03, 1.63285144e+03,\n",
       "        1.56041199e+03, 1.49830164e+03, 1.44635828e+03, 1.40340063e+03,\n",
       "        1.36727942e+03, 1.33509131e+03, 1.30354468e+03, 1.26952930e+03,\n",
       "        1.23078259e+03, 1.18638904e+03, 1.13693994e+03, 1.08433801e+03,\n",
       "        1.03128723e+03, 9.80637146e+02, 9.34756836e+02, 8.95060974e+02,\n",
       "        8.61752625e+02, 8.33824829e+02, 8.09298828e+02, 7.85732300e+02,\n",
       "        7.60897400e+02, 7.33460327e+02, 7.03382080e+02, 6.71858276e+02,\n",
       "        6.40799194e+02, 6.12054565e+02, 5.86742859e+02, 5.64923767e+02,\n",
       "        5.45669556e+02, 5.27488403e+02, 5.08977081e+02, 4.89424622e+02,\n",
       "        4.69088898e+02, 4.48946411e+02, 4.30075684e+02, 4.13058746e+02,\n",
       "        3.97748047e+02, 3.83457550e+02, 3.69428955e+02, 3.55259949e+02,\n",
       "        3.41057281e+02, 3.27287903e+02, 3.14397949e+02, 3.02502930e+02,\n",
       "        2.91345825e+02, 2.80536591e+02, 2.69870514e+02, 2.59436188e+02,\n",
       "        2.49460999e+02, 2.40069717e+02, 2.31191772e+02, 2.22666656e+02,\n",
       "        2.14390015e+02, 2.06379486e+02, 1.98713120e+02, 1.91424606e+02,\n",
       "        1.84468613e+02, 1.77778458e+02, 1.71325638e+02, 1.65127213e+02,\n",
       "        1.59200195e+02, 1.53533005e+02, 1.48095108e+02, 1.42866348e+02,\n",
       "        1.37843903e+02, 1.33028366e+02, 1.28412628e+02, 1.23983749e+02,\n",
       "        1.19729530e+02, 1.15642746e+02, 1.11718300e+02, 1.07950226e+02,\n",
       "        1.04330940e+02, 1.00853439e+02, 9.75114517e+01, 9.42993164e+01,\n",
       "        9.12113800e+01, 8.82421951e+01, 8.53862457e+01, 8.26386948e+01,\n",
       "        7.99946823e+01, 7.74497375e+01, 7.49994202e+01, 7.26395493e+01,\n",
       "        7.03662338e+01, 6.81756439e+01, 6.60641556e+01, 6.40283356e+01,\n",
       "        6.20648003e+01, 6.01705475e+01, 5.83424911e+01, 5.65777321e+01,\n",
       "        5.48736229e+01, 5.32275734e+01, 5.16370468e+01, 5.00997162e+01,\n",
       "        4.86133003e+01, 4.74119835e+01, 4.62433434e+01, 4.51062698e+01,\n",
       "        4.39997025e+01, 4.29224510e+01, 4.18736877e+01, 4.08522987e+01,\n",
       "        3.98574638e+01, 3.88882408e+01, 3.79437637e+01, 3.70231705e+01,\n",
       "        3.61258125e+01, 3.52507973e+01, 3.43974648e+01, 3.35650864e+01,\n",
       "        3.27530441e+01, 3.19606419e+01, 3.11872997e+01, 3.04324150e+01,\n",
       "        2.96954327e+01, 2.89757786e+01, 2.82730026e+01, 2.75865517e+01,\n",
       "        2.69159412e+01, 2.62607307e+01, 2.56204929e+01, 2.49947624e+01,\n",
       "        2.43831978e+01, 2.37853508e+01, 2.32008858e+01, 2.26294174e+01,\n",
       "        2.20706100e+01, 2.15241432e+01, 2.09897137e+01, 2.04669800e+01,\n",
       "        1.99556751e+01, 1.94555264e+01, 1.89662399e+01, 1.84875584e+01,\n",
       "        1.80192566e+01, 1.75610676e+01, 1.71127872e+01, 1.66741753e+01,\n",
       "        1.62450237e+01, 1.58251257e+01, 1.54142733e+01, 1.50123091e+01,\n",
       "        1.46190243e+01, 1.42342386e+01, 1.38577919e+01, 1.34895172e+01,\n",
       "        1.31292543e+01, 1.27768440e+01, 1.24321404e+01, 1.20949955e+01,\n",
       "        1.17652760e+01, 1.14428291e+01, 1.11275339e+01, 1.08192606e+01,\n",
       "        1.05178785e+01, 1.02232647e+01, 9.93530750e+00, 9.65387821e+00,\n",
       "        9.37887478e+00, 9.11016655e+00, 8.84766388e+00, 8.59124947e+00,\n",
       "        8.34081745e+00, 8.09626865e+00, 7.85749531e+00, 7.62440395e+00,\n",
       "        7.39689255e+00, 7.17486477e+00, 6.95822954e+00, 6.74688578e+00,\n",
       "        6.54074526e+00, 6.33971596e+00, 6.14370918e+00, 5.95263147e+00,\n",
       "        5.76639605e+00, 5.58491802e+00, 5.40811014e+00, 5.23588705e+00,\n",
       "        5.06816244e+00, 4.90485620e+00, 4.74588537e+00, 4.59116507e+00,\n",
       "        4.44061565e+00, 4.29415989e+00, 4.15171242e+00, 4.01319838e+00,\n",
       "        3.87853861e+00, 3.74765801e+00, 3.62048030e+00, 3.49692488e+00,\n",
       "        3.37692189e+00, 3.26039243e+00, 3.14726901e+00, 3.03747463e+00,\n",
       "        2.93093657e+00, 2.82758617e+00, 2.72735095e+00, 2.63016200e+00,\n",
       "        2.53594875e+00, 2.44464421e+00, 2.35617948e+00, 2.27048707e+00,\n",
       "        2.18750405e+00, 2.10716105e+00, 2.02939463e+00, 1.95414090e+00,\n",
       "        1.88133860e+00, 1.81092310e+00, 1.74283254e+00, 1.67700875e+00,\n",
       "        1.61339045e+00, 1.55191910e+00, 1.49253595e+00, 1.43518436e+00,\n",
       "        1.37980843e+00, 1.34755588e+00, 1.31597984e+00, 1.28506958e+00,\n",
       "        1.25481391e+00, 1.22520077e+00, 1.19621992e+00, 1.16785908e+00,\n",
       "        1.14010751e+00, 1.11295545e+00, 1.08639050e+00, 1.06040275e+00,\n",
       "        1.03498209e+00, 1.01011753e+00, 9.85798180e-01, 9.62016046e-01,\n",
       "        9.38758373e-01, 9.16017830e-01, 8.93783271e-01, 8.72044742e-01,\n",
       "        8.50793421e-01, 8.30020070e-01, 8.09714854e-01, 7.89869070e-01,\n",
       "        7.70473123e-01, 7.51519203e-01, 7.32997537e-01, 7.14900017e-01,\n",
       "        6.97218418e-01, 6.79943621e-01, 6.63067520e-01, 6.46582603e-01,\n",
       "        6.30480826e-01, 6.14753902e-01, 5.99393904e-01, 5.84393799e-01,\n",
       "        5.69745660e-01, 5.55442393e-01, 5.41476667e-01, 5.27840912e-01,\n",
       "        5.14529228e-01, 5.01533449e-01, 4.88847524e-01, 4.76464927e-01,\n",
       "        4.64378536e-01, 4.52581823e-01, 4.41069156e-01, 4.29834455e-01,\n",
       "        4.18870687e-01, 4.08172607e-01, 3.97734106e-01, 3.87549371e-01,\n",
       "        3.77613038e-01, 3.67919266e-01, 3.58462453e-01, 3.49237680e-01,\n",
       "        3.40239346e-01, 3.31462562e-01, 3.22902352e-01, 3.14553618e-01,\n",
       "        3.06411386e-01, 2.98471123e-01, 2.90728122e-01, 2.83177823e-01,\n",
       "        2.75815696e-01, 2.68637210e-01, 2.61638522e-01, 2.54815340e-01,\n",
       "        2.48163179e-01, 2.41678461e-01, 2.35356882e-01, 2.29194641e-01,\n",
       "        2.23188072e-01, 2.17333600e-01, 2.11627215e-01, 2.06065759e-01,\n",
       "        2.00645506e-01, 1.95363194e-01, 1.90215528e-01, 1.85199216e-01,\n",
       "        1.80310994e-01, 1.75547987e-01, 1.70906916e-01, 1.66384712e-01,\n",
       "        1.61978900e-01, 1.57686353e-01, 1.53504312e-01, 1.49430230e-01,\n",
       "        1.45461112e-01, 1.41594693e-01, 1.37828335e-01, 1.34159490e-01,\n",
       "        1.30585790e-01, 1.27104908e-01, 1.23714454e-01, 1.20412298e-01,\n",
       "        1.17196076e-01, 1.14063852e-01, 1.11013256e-01, 1.08042389e-01,\n",
       "        1.05149359e-01, 1.02331921e-01, 9.95883644e-02, 9.69167799e-02,\n",
       "        9.43153501e-02, 9.17823240e-02, 8.93159658e-02, 8.69144797e-02,\n",
       "        8.45763087e-02, 8.22997317e-02, 8.00833404e-02, 7.79254287e-02,\n",
       "        7.58247152e-02, 7.37794340e-02, 7.17884675e-02, 6.98501617e-02,\n",
       "        6.79633915e-02, 6.61266297e-02, 6.43387735e-02, 6.25983402e-02,\n",
       "        6.09043092e-02, 5.92553169e-02, 5.76502420e-02, 5.60880862e-02,\n",
       "        5.45675009e-02, 5.30876480e-02, 5.16471975e-02, 5.02453707e-02,\n",
       "        4.88809682e-02, 4.75531444e-02, 4.62608635e-02, 4.50032577e-02,\n",
       "        4.37793657e-02, 4.25883159e-02, 4.14292514e-02, 4.03013378e-02,\n",
       "        3.92037407e-02, 3.81356739e-02, 3.70963439e-02, 3.60850133e-02]],\n",
       "      dtype=float32)>"
      ]
     },
     "execution_count": 28,
     "metadata": {},
     "output_type": "execute_result"
    }
   ],
   "source": [
    "tf_pk"
   ]
  },
  {
   "cell_type": "code",
   "execution_count": 48,
   "id": "c31df525-c932-4dd3-b1b9-7e55ff5eff37",
   "metadata": {},
   "outputs": [],
   "source": [
    "def jax_test_cp(params, z):\n",
    "    params_cosmo_power = {'Omega_cdm': [params[0]],\n",
    "              'Omega_b':   [params[1]],\n",
    "              'h':         [params[2]],\n",
    "              'n_s':       [params[3]],\n",
    "              'sigma8':    [params[4]],\n",
    "             }\n",
    "    params_cosmo_power['z'] = [z]\n",
    "\n",
    "    return call_tf_full_ad(tf_test_cp,params_cosmo_power, result_shape=jnp.ones((1,540),dtype=jnp.float32))"
   ]
  },
  {
   "cell_type": "code",
   "execution_count": 57,
   "id": "a0f6858e-cc3c-45e2-b7d2-60011ad20fb8",
   "metadata": {},
   "outputs": [],
   "source": [
    "jax_param_test = jnp.array([Omega_c_emu, Omega_b_emu, h_emu, n_s_emu, sigma8_emu])\n",
    "jax_pk = jax_test_cp(jax_param_test,z_test)"
   ]
  },
  {
   "cell_type": "code",
   "execution_count": 58,
   "id": "181bdf6d-84f5-4112-9071-fc15a40ae196",
   "metadata": {},
   "outputs": [
    {
     "data": {
      "text/plain": [
       "DeviceArray(True, dtype=bool)"
      ]
     },
     "execution_count": 58,
     "metadata": {},
     "output_type": "execute_result"
    }
   ],
   "source": [
    "jnp.allclose(jax_pk,tf_pk.numpy())"
   ]
  },
  {
   "cell_type": "code",
   "execution_count": 59,
   "id": "b9c3e550-cff0-4b4b-af9b-940bf13f2299",
   "metadata": {},
   "outputs": [
    {
     "ename": "TypeError",
     "evalue": "can't apply forward-mode autodiff (jvp) to a custom_vjp function.",
     "output_type": "error",
     "traceback": [
      "\u001b[0;31m---------------------------------------------------------------------------\u001b[0m",
      "\u001b[0;31mTypeError\u001b[0m                                 Traceback (most recent call last)",
      "Input \u001b[0;32mIn [59]\u001b[0m, in \u001b[0;36m<cell line: 1>\u001b[0;34m()\u001b[0m\n\u001b[0;32m----> 1\u001b[0m \u001b[43mjax\u001b[49m\u001b[38;5;241;43m.\u001b[39;49m\u001b[43mjacfwd\u001b[49m\u001b[43m(\u001b[49m\u001b[43mjax_test_cp\u001b[49m\u001b[43m)\u001b[49m\u001b[43m(\u001b[49m\u001b[43mjax_param_test\u001b[49m\u001b[43m,\u001b[49m\u001b[43m \u001b[49m\u001b[43mz_test\u001b[49m\u001b[43m)\u001b[49m\n",
      "File \u001b[0;32m/sps/lsst/users/campagne/anaconda3/envs/jaxccl/lib/python3.8/site-packages/jax/_src/api.py:1098\u001b[0m, in \u001b[0;36mjacfwd.<locals>.jacfun\u001b[0;34m(*args, **kwargs)\u001b[0m\n\u001b[1;32m   1096\u001b[0m tree_map(partial(_check_input_dtype_jacfwd, holomorphic), dyn_args)\n\u001b[1;32m   1097\u001b[0m pushfwd \u001b[38;5;241m=\u001b[39m partial(_jvp, f_partial, dyn_args)\n\u001b[0;32m-> 1098\u001b[0m y, jac \u001b[38;5;241m=\u001b[39m \u001b[43mvmap\u001b[49m\u001b[43m(\u001b[49m\u001b[43mpushfwd\u001b[49m\u001b[43m,\u001b[49m\u001b[43m \u001b[49m\u001b[43mout_axes\u001b[49m\u001b[38;5;241;43m=\u001b[39;49m\u001b[43m(\u001b[49m\u001b[38;5;28;43;01mNone\u001b[39;49;00m\u001b[43m,\u001b[49m\u001b[43m \u001b[49m\u001b[38;5;241;43m-\u001b[39;49m\u001b[38;5;241;43m1\u001b[39;49m\u001b[43m)\u001b[49m\u001b[43m)\u001b[49m\u001b[43m(\u001b[49m\u001b[43m_std_basis\u001b[49m\u001b[43m(\u001b[49m\u001b[43mdyn_args\u001b[49m\u001b[43m)\u001b[49m\u001b[43m)\u001b[49m\n\u001b[1;32m   1099\u001b[0m tree_map(partial(_check_output_dtype_jacfwd, holomorphic), y)\n\u001b[1;32m   1100\u001b[0m example_args \u001b[38;5;241m=\u001b[39m dyn_args[\u001b[38;5;241m0\u001b[39m] \u001b[38;5;28;01mif\u001b[39;00m \u001b[38;5;28misinstance\u001b[39m(argnums, \u001b[38;5;28mint\u001b[39m) \u001b[38;5;28;01melse\u001b[39;00m dyn_args\n",
      "    \u001b[0;31m[... skipping hidden 5 frame]\u001b[0m\n",
      "Input \u001b[0;32mIn [48]\u001b[0m, in \u001b[0;36mjax_test_cp\u001b[0;34m(params, z)\u001b[0m\n\u001b[1;32m      2\u001b[0m params_cosmo_power \u001b[38;5;241m=\u001b[39m {\u001b[38;5;124m'\u001b[39m\u001b[38;5;124mOmega_cdm\u001b[39m\u001b[38;5;124m'\u001b[39m: [params[\u001b[38;5;241m0\u001b[39m]],\n\u001b[1;32m      3\u001b[0m           \u001b[38;5;124m'\u001b[39m\u001b[38;5;124mOmega_b\u001b[39m\u001b[38;5;124m'\u001b[39m:   [params[\u001b[38;5;241m1\u001b[39m]],\n\u001b[1;32m      4\u001b[0m           \u001b[38;5;124m'\u001b[39m\u001b[38;5;124mh\u001b[39m\u001b[38;5;124m'\u001b[39m:         [params[\u001b[38;5;241m2\u001b[39m]],\n\u001b[1;32m      5\u001b[0m           \u001b[38;5;124m'\u001b[39m\u001b[38;5;124mn_s\u001b[39m\u001b[38;5;124m'\u001b[39m:       [params[\u001b[38;5;241m3\u001b[39m]],\n\u001b[1;32m      6\u001b[0m           \u001b[38;5;124m'\u001b[39m\u001b[38;5;124msigma8\u001b[39m\u001b[38;5;124m'\u001b[39m:    [params[\u001b[38;5;241m4\u001b[39m]],\n\u001b[1;32m      7\u001b[0m          }\n\u001b[1;32m      8\u001b[0m params_cosmo_power[\u001b[38;5;124m'\u001b[39m\u001b[38;5;124mz\u001b[39m\u001b[38;5;124m'\u001b[39m] \u001b[38;5;241m=\u001b[39m [z]\n\u001b[0;32m---> 10\u001b[0m \u001b[38;5;28;01mreturn\u001b[39;00m \u001b[43mcall_tf_full_ad\u001b[49m\u001b[43m(\u001b[49m\u001b[43mtf_test_cp\u001b[49m\u001b[43m,\u001b[49m\u001b[43mparams_cosmo_power\u001b[49m\u001b[43m,\u001b[49m\u001b[43m \u001b[49m\u001b[43mresult_shape\u001b[49m\u001b[38;5;241;43m=\u001b[39;49m\u001b[43mjnp\u001b[49m\u001b[38;5;241;43m.\u001b[39;49m\u001b[43mones\u001b[49m\u001b[43m(\u001b[49m\u001b[43m(\u001b[49m\u001b[38;5;241;43m1\u001b[39;49m\u001b[43m,\u001b[49m\u001b[38;5;241;43m540\u001b[39;49m\u001b[43m)\u001b[49m\u001b[43m,\u001b[49m\u001b[43mdtype\u001b[49m\u001b[38;5;241;43m=\u001b[39;49m\u001b[43mjnp\u001b[49m\u001b[38;5;241;43m.\u001b[39;49m\u001b[43mfloat32\u001b[49m\u001b[43m)\u001b[49m\u001b[43m)\u001b[49m\n",
      "Input \u001b[0;32mIn [4]\u001b[0m, in \u001b[0;36mcall_tf_full_ad\u001b[0;34m(tf_fun, arg, result_shape)\u001b[0m\n\u001b[1;32m     60\u001b[0m   \u001b[38;5;28;01mreturn\u001b[39;00m (call_tf_full_ad(tf_vjp_fun, (arg, ct_res),\n\u001b[1;32m     61\u001b[0m                           result_shape\u001b[38;5;241m=\u001b[39marg),)\n\u001b[1;32m     63\u001b[0m make_call\u001b[38;5;241m.\u001b[39mdefvjp(make_call_vjp_fwd, make_call_vjp_bwd)\n\u001b[0;32m---> 64\u001b[0m \u001b[38;5;28;01mreturn\u001b[39;00m \u001b[43mmake_call\u001b[49m\u001b[43m(\u001b[49m\u001b[43marg\u001b[49m\u001b[43m)\u001b[49m\n",
      "    \u001b[0;31m[... skipping hidden 6 frame]\u001b[0m\n",
      "File \u001b[0;32m/sps/lsst/users/campagne/anaconda3/envs/jaxccl/lib/python3.8/site-packages/jax/interpreters/ad.py:683\u001b[0m, in \u001b[0;36m_raise_custom_vjp_error_on_jvp\u001b[0;34m(*_, **__)\u001b[0m\n\u001b[1;32m    682\u001b[0m \u001b[38;5;28;01mdef\u001b[39;00m \u001b[38;5;21m_raise_custom_vjp_error_on_jvp\u001b[39m(\u001b[38;5;241m*\u001b[39m_, \u001b[38;5;241m*\u001b[39m\u001b[38;5;241m*\u001b[39m__):\n\u001b[0;32m--> 683\u001b[0m   \u001b[38;5;28;01mraise\u001b[39;00m \u001b[38;5;167;01mTypeError\u001b[39;00m(\u001b[38;5;124m\"\u001b[39m\u001b[38;5;124mcan\u001b[39m\u001b[38;5;124m'\u001b[39m\u001b[38;5;124mt apply forward-mode autodiff (jvp) to a custom_vjp \u001b[39m\u001b[38;5;124m\"\u001b[39m\n\u001b[1;32m    684\u001b[0m                   \u001b[38;5;124m\"\u001b[39m\u001b[38;5;124mfunction.\u001b[39m\u001b[38;5;124m\"\u001b[39m)\n",
      "\u001b[0;31mTypeError\u001b[0m: can't apply forward-mode autodiff (jvp) to a custom_vjp function."
     ]
    }
   ],
   "source": [
    "jax.jacfwd(jax_test_cp)(jax_param_test, z_test)"
   ]
  },
  {
   "cell_type": "code",
   "execution_count": null,
   "id": "683dc914-46de-4e68-ad96-17378b007c4e",
   "metadata": {},
   "outputs": [],
   "source": []
  }
 ],
 "metadata": {
  "jupytext": {
   "text_representation": {
    "extension": ".py",
    "format_name": "light",
    "format_version": "1.5",
    "jupytext_version": "1.11.3"
   }
  },
  "kernelspec": {
   "display_name": "jaxccl",
   "language": "python",
   "name": "jaxccl"
  },
  "language_info": {
   "codemirror_mode": {
    "name": "ipython",
    "version": 3
   },
   "file_extension": ".py",
   "mimetype": "text/x-python",
   "name": "python",
   "nbconvert_exporter": "python",
   "pygments_lexer": "ipython3",
   "version": "3.8.12"
  }
 },
 "nbformat": 4,
 "nbformat_minor": 5
}
